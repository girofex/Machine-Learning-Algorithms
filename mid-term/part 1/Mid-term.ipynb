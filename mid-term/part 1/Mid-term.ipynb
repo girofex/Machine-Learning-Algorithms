{
 "cells": [
  {
   "cell_type": "code",
   "execution_count": null,
   "metadata": {},
   "outputs": [],
   "source": []
  },
  {
   "cell_type": "markdown",
   "metadata": {},
   "source": [
    "Function for data loading"
   ]
  },
  {
   "cell_type": "code",
   "execution_count": null,
   "metadata": {},
   "outputs": [],
   "source": [
    "def load_dataset(name):\n",
    "    X, y = [], []\n",
    "    with open(\"{}\".format(name), 'r') as f:\n",
    "        for line in f.readlines():\n",
    "            splitted = line.split(\",\")\n",
    "            X.append(splitted[:-1])\n",
    "            y.append(splitted[-1])\n",
    "    X, y = np.asarray(X, dtype=np.float32), np.asarray(y, dtype=np.float32)\n",
    "    return X, y"
   ]
  }
 ],
 "metadata": {
  "language_info": {
   "name": "python"
  }
 },
 "nbformat": 4,
 "nbformat_minor": 2
}
