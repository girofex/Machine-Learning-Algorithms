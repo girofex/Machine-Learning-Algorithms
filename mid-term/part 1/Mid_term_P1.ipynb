{
  "cells": [
    {
      "cell_type": "markdown",
      "metadata": {
        "id": "qIVvQeoGYSGu"
      },
      "source": [
        "# Mid-Term - Part 1\n",
        "Compare the two algorithms we studied, K-NN and RLS with linear models, in terms of accuracy and training time\n"
      ]
    },
    {
      "cell_type": "code",
      "execution_count": 128,
      "metadata": {
        "id": "zjt9VajnYtLP"
      },
      "outputs": [],
      "source": [
        "import numpy as np\n",
        "import matplotlib.pyplot as plt\n",
        "import scipy.linalg\n",
        "from scipy.interpolate import griddata\n",
        "\n",
        "############################################################\n",
        "def linearRegrFunction(n, D, low_D, high_D, W, sigma_noise):\n",
        "    X = np.zeros((n,D))\n",
        "    for i in range(0, D):\n",
        "        X[:,i] = np.random.uniform(low_D[i], high_D[i], size=n)\n",
        "\n",
        "    gauss_noise = np.random.normal(0, sigma_noise, size=(n,1))\n",
        "\n",
        "    Y = np.dot(X, W) + gauss_noise\n",
        "\n",
        "    return X, Y\n",
        "\n",
        "#####################\n",
        "def flipLabels(Y, P):\n",
        "    if P < 1 or P > 100:\n",
        "        raise Exception('P should be between 1 and 100')\n",
        "\n",
        "    indices_to_flip = np.random.choice(range(len(Y)), int(len(Y) * (P / 100)), replace=False)\n",
        "    Y_noisy = Y.copy()\n",
        "    Y_noisy[indices_to_flip] *= -1\n",
        "\n",
        "    return Y_noisy"
      ]
    },
    {
      "cell_type": "markdown",
      "metadata": {
        "id": "qV_9csU9ZZrk"
      },
      "source": [
        "### KNN-Classify"
      ]
    },
    {
      "cell_type": "code",
      "execution_count": 129,
      "metadata": {
        "id": "36z2j1YzZT1l"
      },
      "outputs": [],
      "source": [
        "def calcError(Ypred, Ytrue):\n",
        "    return (np.count_nonzero(Ypred != Ytrue)) / len(Ytrue)\n",
        "\n",
        "#########################\n",
        "def euclidDistance(P1,P2):\n",
        "    return np.linalg.norm(P1-P2,2)\n",
        "\n",
        "#########################\n",
        "def allDistances(X1, X2):\n",
        "    D = np.zeros((X1.shape[0], X2.shape[0]))\n",
        "    for idx1 in range(len(X1)):\n",
        "        for idx2 in range(len(X2)):\n",
        "            D[idx1,idx2] = euclidDistance(X1[idx1,:],X2[idx2,:])\n",
        "    return D\n",
        "\n",
        "##################################\n",
        "def kNNClassify(Xtr, Ytr, k, Xte):\n",
        "    n_train = Xtr.shape[0]\n",
        "    n_test = Xte.shape[0]\n",
        "\n",
        "    if any(np.abs(Ytr) != 1):\n",
        "        raise Exception(\"The values of Ytr should be +1 or -1.\")\n",
        "\n",
        "    if k > n_train:\n",
        "        print(\"k is greater than the number of points, setting k=n_train\")\n",
        "        k = n_train\n",
        "\n",
        "    Ypred = np.zeros(n_test)\n",
        "\n",
        "    dist = allDistances(Xte, Xtr)\n",
        "\n",
        "    for idx in range(n_test):\n",
        "        idx_dist = dist[idx]\n",
        "        order_idx_dist = np.argsort(idx_dist)\n",
        "        k_idx_dist = order_idx_dist[:k]\n",
        "        Ypred[idx] = np.sign(np.mean(Ytr[k_idx_dist]))\n",
        "\n",
        "    return Ypred\n",
        "\n",
        "#####################################################\n",
        "def KFoldCVkNN(Xtr, Ytr, num_folds, hyperparam_list):\n",
        "    rnd_state = np.random.RandomState()\n",
        "    hyperparam_list = np.array(hyperparam_list)\n",
        "    num_k = len(k_list)\n",
        "\n",
        "    n_tot = Xtr.shape[0]\n",
        "\n",
        "    tr_errors = np.zeros((num_k, num_folds))\n",
        "    val_errors = np.zeros((num_k, num_folds))\n",
        "\n",
        "    rand_idx = rnd_state.choice(n_tot, size=n_tot, replace=False)\n",
        "    split_idx = np.array_split(rand_idx, num_folds)\n",
        "\n",
        "    for fold_idx in range(num_folds):\n",
        "        val_mask = np.zeros(n_tot, dtype=bool)\n",
        "        val_mask[split_idx[fold_idx]] = True\n",
        "        x_train = Xtr[val_mask==False]\n",
        "        y_train = Ytr[val_mask==False]\n",
        "        x_val = Xtr[val_mask==True]\n",
        "        y_val = Ytr[val_mask==True]\n",
        "\n",
        "        for k_idx, current_k in enumerate(hyperparam_list):\n",
        "            tr_errors[k_idx, fold_idx] = calcError(kNNClassify(x_train, y_train, current_k, x_train), y_train)\n",
        "            val_errors[k_idx, fold_idx] = calcError(kNNClassify(x_train, y_train, current_k, x_val), y_val)\n",
        "\n",
        "    tr_err_mean = np.mean(tr_errors, axis=1)\n",
        "    tr_err_std = np.std(tr_errors, axis=1)\n",
        "\n",
        "    val_err_mean = np.mean(val_errors, axis=1)\n",
        "    val_err_std = np.std(val_errors, axis=1)\n",
        "\n",
        "    best_k = k_list[np.argmin(val_err_mean)]\n",
        "    best_k_idx = np.atleast_1d(k_list == best_k).nonzero()\n",
        "\n",
        "    return best_k, best_k_idx, tr_err_mean, tr_err_std, val_err_mean, val_err_std\n",
        "\n",
        "####################################\n",
        "def separatingFkNN(Xtr, Ytr, k, Xte):\n",
        "    Ypred = kNNClassify(Xtr=Xtr, Ytr=Ytr, k=k, Xte=Xte)\n",
        "\n",
        "    x = Xtr[:, 0]\n",
        "    y = Xtr[:, 1]\n",
        "    xi = np.linspace(x.min(), x.max(), 500)\n",
        "    yi = np.linspace(y.min(), y.max(), 500)\n",
        "    zi = griddata((x, y), Ypred, (xi[None, :], yi[:, None]), method='linear')\n",
        "\n",
        "    plt.subplots()\n",
        "    CS = plt.contour(xi, yi, zi, 15, linewidths=2, colors='k', levels=[0])\n",
        "    plt.scatter(x[Ytr==1], y[Ytr==1], c=\"#C59434\", marker='o', s=50, zorder=10, alpha=0.8)\n",
        "    plt.scatter(x[Ytr==-1], y[Ytr==-1], c=\"#092C48\", marker='o', s=50, zorder=10, alpha=0.8)\n",
        "    plt.xlim(x.min(), x.max())\n",
        "    plt.ylim(x.min(), x.max())"
      ]
    },
    {
      "cell_type": "markdown",
      "metadata": {
        "id": "yOGS1XHraxmm"
      },
      "source": [
        "### RLS"
      ]
    },
    {
      "cell_type": "code",
      "execution_count": 130,
      "metadata": {
        "id": "VkiN57mJa0zq"
      },
      "outputs": [],
      "source": [
        "def regularizedLSTrain(Xtr, Ytr, lam):\n",
        "    n = Xtr.shape[0]\n",
        "    A = Xtr.transpose() @ Xtr + lam*n*np.eye(Xtr.shape[1])\n",
        "    b = Xtr.transpose() @ Ytr\n",
        "\n",
        "    lower_triangular = np.linalg.cholesky(A)\n",
        "\n",
        "    y = scipy.linalg.solve_triangular(lower_triangular, b, lower=True)\n",
        "    w = scipy.linalg.solve_triangular(lower_triangular.T, y, lower=False)\n",
        "\n",
        "    return w\n",
        "\n",
        "##############################\n",
        "def regularizedLSTest(w, Xte):\n",
        "    Ypred = Xte @ w\n",
        "    return Ypred"
      ]
    },
    {
      "cell_type": "markdown",
      "metadata": {
        "id": "TQxrpBtxX62M"
      },
      "source": [
        "### Function for data loading"
      ]
    },
    {
      "cell_type": "code",
      "execution_count": 131,
      "metadata": {
        "id": "ewe2-KPBX62O"
      },
      "outputs": [],
      "source": [
        "def load_dataset(name):\n",
        "    X, y = [], []\n",
        "    with open(\"{}\".format(name), 'r') as f:\n",
        "        for line in f.readlines():\n",
        "            splitted = line.split(\",\")\n",
        "            X.append(splitted[:-1])\n",
        "            y.append(splitted[-1])\n",
        "    X, y = np.asarray(X, dtype=np.float32), np.asarray(y, dtype=np.float32)\n",
        "    return X, y"
      ]
    },
    {
      "cell_type": "markdown",
      "metadata": {
        "id": "Vp0L5X4vZ6Ei"
      },
      "source": [
        "### Dataset 1:\n",
        "- $D = 10$\n",
        "- $n = 400$\n",
        "- Noise $= 10\\%$\n",
        "\n",
        "With K-NN"
      ]
    },
    {
      "cell_type": "code",
      "execution_count": 142,
      "metadata": {
        "colab": {
          "base_uri": "https://localhost:8080/",
          "height": 332
        },
        "id": "wB_5Ma1EZ7pL",
        "outputId": "d172da49-d0fe-4965-d350-c2ae8245be76"
      },
      "outputs": [
        {
          "output_type": "error",
          "ename": "IndexError",
          "evalue": "list index out of range",
          "traceback": [
            "\u001b[0;31m---------------------------------------------------------------------------\u001b[0m",
            "\u001b[0;31mIndexError\u001b[0m                                Traceback (most recent call last)",
            "\u001b[0;32m<ipython-input-142-ca51b37764aa>\u001b[0m in \u001b[0;36m<cell line: 7>\u001b[0;34m()\u001b[0m\n\u001b[1;32m      5\u001b[0m \u001b[0mnoise\u001b[0m \u001b[0;34m=\u001b[0m \u001b[0;36m10\u001b[0m\u001b[0;34m\u001b[0m\u001b[0;34m\u001b[0m\u001b[0m\n\u001b[1;32m      6\u001b[0m \u001b[0;34m\u001b[0m\u001b[0m\n\u001b[0;32m----> 7\u001b[0;31m \u001b[0mXtr\u001b[0m\u001b[0;34m,\u001b[0m \u001b[0mYtr\u001b[0m \u001b[0;34m=\u001b[0m \u001b[0mlinearRegrFunction\u001b[0m\u001b[0;34m(\u001b[0m\u001b[0mn\u001b[0m\u001b[0;34m,\u001b[0m \u001b[0mD\u001b[0m\u001b[0;34m,\u001b[0m \u001b[0mlow_D\u001b[0m\u001b[0;34m,\u001b[0m \u001b[0mhigh_D\u001b[0m\u001b[0;34m,\u001b[0m \u001b[0mw\u001b[0m\u001b[0;34m,\u001b[0m \u001b[0mnoise\u001b[0m\u001b[0;34m)\u001b[0m\u001b[0;34m\u001b[0m\u001b[0;34m\u001b[0m\u001b[0m\n\u001b[0m\u001b[1;32m      8\u001b[0m \u001b[0;34m\u001b[0m\u001b[0m\n\u001b[1;32m      9\u001b[0m \u001b[0m_\u001b[0m\u001b[0;34m,\u001b[0m \u001b[0max\u001b[0m \u001b[0;34m=\u001b[0m \u001b[0mplt\u001b[0m\u001b[0;34m.\u001b[0m\u001b[0msubplots\u001b[0m\u001b[0;34m(\u001b[0m\u001b[0;34m)\u001b[0m\u001b[0;34m\u001b[0m\u001b[0;34m\u001b[0m\u001b[0m\n",
            "\u001b[0;32m<ipython-input-128-a1ab9c33000b>\u001b[0m in \u001b[0;36mlinearRegrFunction\u001b[0;34m(n, D, low_D, high_D, W, sigma_noise)\u001b[0m\n\u001b[1;32m      8\u001b[0m     \u001b[0mX\u001b[0m \u001b[0;34m=\u001b[0m \u001b[0mnp\u001b[0m\u001b[0;34m.\u001b[0m\u001b[0mzeros\u001b[0m\u001b[0;34m(\u001b[0m\u001b[0;34m(\u001b[0m\u001b[0mn\u001b[0m\u001b[0;34m,\u001b[0m\u001b[0mD\u001b[0m\u001b[0;34m)\u001b[0m\u001b[0;34m)\u001b[0m\u001b[0;34m\u001b[0m\u001b[0;34m\u001b[0m\u001b[0m\n\u001b[1;32m      9\u001b[0m     \u001b[0;32mfor\u001b[0m \u001b[0mi\u001b[0m \u001b[0;32min\u001b[0m \u001b[0mrange\u001b[0m\u001b[0;34m(\u001b[0m\u001b[0;36m0\u001b[0m\u001b[0;34m,\u001b[0m \u001b[0mD\u001b[0m\u001b[0;34m)\u001b[0m\u001b[0;34m:\u001b[0m\u001b[0;34m\u001b[0m\u001b[0;34m\u001b[0m\u001b[0m\n\u001b[0;32m---> 10\u001b[0;31m         \u001b[0mX\u001b[0m\u001b[0;34m[\u001b[0m\u001b[0;34m:\u001b[0m\u001b[0;34m,\u001b[0m\u001b[0mi\u001b[0m\u001b[0;34m]\u001b[0m \u001b[0;34m=\u001b[0m \u001b[0mnp\u001b[0m\u001b[0;34m.\u001b[0m\u001b[0mrandom\u001b[0m\u001b[0;34m.\u001b[0m\u001b[0muniform\u001b[0m\u001b[0;34m(\u001b[0m\u001b[0mlow_D\u001b[0m\u001b[0;34m[\u001b[0m\u001b[0mi\u001b[0m\u001b[0;34m]\u001b[0m\u001b[0;34m,\u001b[0m \u001b[0mhigh_D\u001b[0m\u001b[0;34m[\u001b[0m\u001b[0mi\u001b[0m\u001b[0;34m]\u001b[0m\u001b[0;34m,\u001b[0m \u001b[0msize\u001b[0m\u001b[0;34m=\u001b[0m\u001b[0mn\u001b[0m\u001b[0;34m)\u001b[0m\u001b[0;34m\u001b[0m\u001b[0;34m\u001b[0m\u001b[0m\n\u001b[0m\u001b[1;32m     11\u001b[0m \u001b[0;34m\u001b[0m\u001b[0m\n\u001b[1;32m     12\u001b[0m     \u001b[0mgauss_noise\u001b[0m \u001b[0;34m=\u001b[0m \u001b[0mnp\u001b[0m\u001b[0;34m.\u001b[0m\u001b[0mrandom\u001b[0m\u001b[0;34m.\u001b[0m\u001b[0mnormal\u001b[0m\u001b[0;34m(\u001b[0m\u001b[0;36m0\u001b[0m\u001b[0;34m,\u001b[0m \u001b[0msigma_noise\u001b[0m\u001b[0;34m,\u001b[0m \u001b[0msize\u001b[0m\u001b[0;34m=\u001b[0m\u001b[0;34m(\u001b[0m\u001b[0mn\u001b[0m\u001b[0;34m,\u001b[0m\u001b[0;36m1\u001b[0m\u001b[0;34m)\u001b[0m\u001b[0;34m)\u001b[0m\u001b[0;34m\u001b[0m\u001b[0;34m\u001b[0m\u001b[0m\n",
            "\u001b[0;31mIndexError\u001b[0m: list index out of range"
          ]
        }
      ],
      "source": [
        "n = 400\n",
        "D = 10\n",
        "low_D, high_D = -10, 10\n",
        "w = np.array(1.0).reshape(1, 1)\n",
        "noise = 10\n",
        "\n",
        "Xtr, Ytr = linearRegrFunction(n, D, low_D, high_D, w, noise)\n",
        "\n",
        "_, ax = plt.subplots()\n",
        "ax.set_title(\"Linear Regression data\")\n",
        "ax.set_xlabel(\"x\")\n",
        "ax.set_ylabel(\"y\")"
      ]
    },
    {
      "cell_type": "markdown",
      "source": [
        "With RLS"
      ],
      "metadata": {
        "id": "_7JMmSpYJD1p"
      }
    },
    {
      "cell_type": "code",
      "source": [],
      "metadata": {
        "id": "yGtM6rWCJFQd"
      },
      "execution_count": null,
      "outputs": []
    },
    {
      "cell_type": "markdown",
      "metadata": {
        "id": "ibGRGSgVamIu"
      },
      "source": [
        "### Dataset 2:\n",
        "- $D = 10$\n",
        "- $n = 4000$\n",
        "- Noise $= 10\\%$"
      ]
    },
    {
      "cell_type": "code",
      "execution_count": null,
      "metadata": {
        "id": "bT8sEh9jauDm"
      },
      "outputs": [],
      "source": []
    },
    {
      "cell_type": "markdown",
      "metadata": {
        "id": "mJRQYoGAaqak"
      },
      "source": [
        "### Dataset 3:\n",
        "- $D = 4000$\n",
        "- $n = 400$\n",
        "- Noise $= 10\\%$"
      ]
    },
    {
      "cell_type": "code",
      "execution_count": null,
      "metadata": {
        "id": "EtMeO4MIatZT"
      },
      "outputs": [],
      "source": []
    },
    {
      "cell_type": "markdown",
      "source": [
        "Instructions to load the test set and to\n",
        "evaluate the model:"
      ],
      "metadata": {
        "id": "VP9gskaSOAqv"
      }
    }
  ],
  "metadata": {
    "colab": {
      "provenance": []
    },
    "kernelspec": {
      "display_name": ".venv",
      "language": "python",
      "name": "python3"
    },
    "language_info": {
      "codemirror_mode": {
        "name": "ipython",
        "version": 3
      },
      "file_extension": ".py",
      "mimetype": "text/x-python",
      "name": "python",
      "nbconvert_exporter": "python",
      "pygments_lexer": "ipython3",
      "version": "3.13.0"
    }
  },
  "nbformat": 4,
  "nbformat_minor": 0
}