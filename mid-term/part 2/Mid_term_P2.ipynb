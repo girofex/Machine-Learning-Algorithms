{
 "cells": [
  {
   "cell_type": "markdown",
   "metadata": {
    "id": "qIVvQeoGYSGu"
   },
   "source": [
    "<h1>Mid-Term - Part 2</h1>\n"
   ]
  },
  {
   "cell_type": "code",
   "execution_count": 24,
   "metadata": {
    "id": "zjt9VajnYtLP"
   },
   "outputs": [],
   "source": [
    "%matplotlib inline\n",
    "import numpy as np\n",
    "import matplotlib as cm\n",
    "import matplotlib.pyplot as plt\n",
    "import scipy.linalg\n",
    "import scipy.spatial"
   ]
  },
  {
   "cell_type": "markdown",
   "metadata": {
    "id": "TQxrpBtxX62M"
   },
   "source": [
    "<h2>Data loading</h2>"
   ]
  },
  {
   "cell_type": "code",
   "execution_count": 31,
   "metadata": {
    "id": "ewe2-KPBX62O"
   },
   "outputs": [
    {
     "name": "stdout",
     "output_type": "stream",
     "text": [
      "Shape of Xtr: (5200, 11)\n",
      "Shape of Ytr: (5200, 1)\n",
      "Xtr datatype: float64\n",
      "Ytr datatype: int64\n"
     ]
    }
   ],
   "source": [
    "Xtr = np.load(\"./Training/training_X.npy\", mmap_mode=None)\n",
    "Ytr = np.load(\"./Training/training_Y.npy\", mmap_mode=None)\n",
    "\n",
    "print(f\"Shape of Xtr: {Xtr.shape}\\nShape of Ytr: {Ytr.shape}\")\n",
    "print(\"Xtr datatype:\", Xtr.dtype)\n",
    "print(\"Ytr datatype:\", Ytr.dtype)"
   ]
  },
  {
   "cell_type": "markdown",
   "metadata": {},
   "source": [
    "The shapes suggests that there is one output value per input sample.\n",
    "<br>\n",
    "According to the datatypes, we are dealing with classification."
   ]
  },
  {
   "cell_type": "markdown",
   "metadata": {},
   "source": [
    "<h2>KRLS</h2>"
   ]
  },
  {
   "cell_type": "code",
   "execution_count": 36,
   "metadata": {},
   "outputs": [],
   "source": [
    "def calc_err(Ypred, Ytrue):\n",
    "    return np.mean((Ypred-Ytrue)**2)\n",
    "\n",
    "def squared_distances(X1, X2):\n",
    "    return scipy.spatial.distance.cdist(X1, X2, metric='seuclidean')\n",
    "\n",
    "def kernel_matrix(X1, X2, lengthscale):\n",
    "    return np.exp(-squared_distances(X1, X2) / (2 * (lengthscale**2)))\n",
    "\n",
    "def krls_train(x, y, reg_par, kernel_par):\n",
    "    w = np.linalg.solve(kernel_matrix(x, x, kernel_par) + reg_par * x.shape[0] * np.eye(x.shape[0]), y)\n",
    "    return w\n",
    "\n",
    "def krls_predict(x_ts, x_tr, w, kernel_par):\n",
    "    return kernel_matrix(x_ts, x_tr, kernel_par) @ w\n",
    "\n",
    "def krls_kfold_valerr(x_tr, y_tr, num_folds, reg_par, kernel_par):\n",
    "    if num_folds <= 1:\n",
    "        raise Exception(\"Please supply a number of folds > 1\")\n",
    "\n",
    "    n_tot = x_tr.shape[0]\n",
    "    n_val = int(n_tot // num_folds)\n",
    "    \n",
    "    tr_errs, val_errs = [], []\n",
    "    rand_idx = np.random.choice(n_tot, size=n_tot, replace=False)\n",
    "    split_idx = np.array_split(rand_idx, num_folds)\n",
    "    for fold in range(num_folds):\n",
    "        val_mask = np.zeros(n_tot, dtype=bool)\n",
    "        val_mask[split_idx[fold]] = True\n",
    "        \n",
    "        kf_x_tr = x_tr[~val_mask]\n",
    "        kf_y_tr = y_tr[~val_mask]\n",
    "        kf_x_val = x_tr[val_mask]\n",
    "        kf_y_val = y_tr[val_mask]\n",
    "        \n",
    "        w_krls = krls_train(kf_x_tr, kf_y_tr, reg_par=reg_par, kernel_par=kernel_par)\n",
    "        \n",
    "        pred_tr = krls_predict(kf_x_tr, kf_x_tr, w_krls, kernel_par=kernel_par)\n",
    "        pred_val = krls_predict(kf_x_val, kf_x_tr, w_krls, kernel_par=kernel_par)\n",
    "        tr_errs.append(calc_err(pred_tr, kf_y_tr))\n",
    "        val_errs.append(calc_err(pred_val, kf_y_val))\n",
    "    return np.asarray(tr_errs), np.asarray(val_errs)\n",
    "\n",
    "def krls_kfoldcv(x_tr, y_tr, num_folds, reg_par_list, kernel_par_list):\n",
    "    errors = np.zeros((len(reg_par_list), len(kernel_par_list)))\n",
    "    for i, reg_par in enumerate(reg_par_list):\n",
    "        for j, kernel_par in enumerate(kernel_par_list):\n",
    "            tr_error, val_error = krls_kfold_valerr(x_tr, y_tr, num_folds, reg_par, kernel_par)\n",
    "            errors[i][j] = np.mean(val_error)\n",
    "            \n",
    "    best_reg_par = reg_par_list[np.unravel_index(np.argmin(errors), errors.shape)[0]]\n",
    "    best_kernel_par = kernel_par_list[np.unravel_index(np.argmin(errors), errors.shape)[1]]\n",
    "    best_err = np.min(errors)\n",
    "    print(f\"The best error (MSE={best_err*100:.2f}%) was obtained with \"\n",
    "          f\"lambda={best_reg_par}, kernel-parameter={best_kernel_par}\")\n",
    "    return best_reg_par, best_kernel_par, best_err"
   ]
  },
  {
   "cell_type": "markdown",
   "metadata": {},
   "source": [
    "<h3>Implementation</h3>"
   ]
  },
  {
   "cell_type": "code",
   "execution_count": null,
   "metadata": {},
   "outputs": [],
   "source": [
    "num_folds = 5\n",
    "reg_par_list = np.logspace(-3, 3, 10)\n",
    "kernel_par_list = np.logspace(-2, 2, 20)\n",
    "kernel_type = 'gaussian'\n",
    "\n",
    "best_reg_par, best_kernel_par, best_err = krls_kfoldcv(Xtr, Ytr, num_folds, reg_par_list, kernel_par_list)\n",
    "w = krls_train(Xtr, Ytr, best_reg_par, best_kernel_par)\n",
    "pred_tr = krls_predict(Xtr, Xtr, w, best_kernel_par)\n",
    "\n",
    "plt.scatter(Xtr[:, 0], Ytr, label=\"True\")\n",
    "plt.scatter(Xtr[:, 0], pred_tr, label=\"Predicted\")\n",
    "plt.legend(loc=\"best\");\n",
    "plt.title(\"Gaussian kernel\")"
   ]
  },
  {
   "cell_type": "markdown",
   "metadata": {},
   "source": [
    "<h2>Evaluation of the model</h2>"
   ]
  },
  {
   "cell_type": "code",
   "execution_count": null,
   "metadata": {},
   "outputs": [],
   "source": [
    "Xte, Yte = load_dataset(\"...\")\n",
    "\n",
    "w = regularizedLSTrain(Xtr, Ytr, bestlam)\n",
    "Ypred = regularizedLSTest(w, Xte)\n",
    "test_err_rls = calcError(Ypred, Yte)\n",
    "\n",
    "print(\"The test error with the best lambda ({bestlam}) and {folds}-FoldCVRLS is {}\".format(test_err_rls))"
   ]
  }
 ],
 "metadata": {
  "colab": {
   "provenance": []
  },
  "kernelspec": {
   "display_name": "Python 3",
   "language": "python",
   "name": "python3"
  },
  "language_info": {
   "codemirror_mode": {
    "name": "ipython",
    "version": 3
   },
   "file_extension": ".py",
   "mimetype": "text/x-python",
   "name": "python",
   "nbconvert_exporter": "python",
   "pygments_lexer": "ipython3",
   "version": "3.13.0"
  }
 },
 "nbformat": 4,
 "nbformat_minor": 0
}
